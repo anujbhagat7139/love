{
 "cells": [
  {
   "cell_type": "code",
   "execution_count": 3,
   "id": "2ad08d55",
   "metadata": {},
   "outputs": [
    {
     "name": "stdout",
     "output_type": "stream",
     "text": [
      "Welcome to the Love Calculator\n",
      "Enter your Name=angela yu\n",
      "Enter your Lover Name=jack bauer\n",
      "Your Love Score is 53\n"
     ]
    }
   ],
   "source": [
    "print(\"Welcome to the Love Calculator\")\n",
    "name1=input(\"Enter your Name=\").lower()\n",
    "name2=input(\"Enter your Lover Name=\").lower()\n",
    "name=name1+name2\n",
    "T=name.count(\"t\")\n",
    "R=name.count(\"r\")\n",
    "U=name.count(\"u\")\n",
    "E=name.count(\"e\")\n",
    "\n",
    "L=name.count(\"l\")\n",
    "O=name.count(\"o\")\n",
    "V=name.count(\"v\")\n",
    "E=name.count(\"e\")\n",
    "c1=T+R+U+E\n",
    "c2=L+O+V+E\n",
    "love=str(c1)+str(c2)\n",
    "print(f\"Your Love Score is {love}\")"
   ]
  },
  {
   "cell_type": "code",
   "execution_count": null,
   "id": "8055dc0e",
   "metadata": {},
   "outputs": [],
   "source": []
  }
 ],
 "metadata": {
  "kernelspec": {
   "display_name": "Python 3 (ipykernel)",
   "language": "python",
   "name": "python3"
  },
  "language_info": {
   "codemirror_mode": {
    "name": "ipython",
    "version": 3
   },
   "file_extension": ".py",
   "mimetype": "text/x-python",
   "name": "python",
   "nbconvert_exporter": "python",
   "pygments_lexer": "ipython3",
   "version": "3.9.12"
  }
 },
 "nbformat": 4,
 "nbformat_minor": 5
}
